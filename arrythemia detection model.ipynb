{
 "cells": [
  {
   "cell_type": "code",
   "execution_count": 1,
   "id": "0d4715bb",
   "metadata": {},
   "outputs": [],
   "source": [
    "import pandas as pd\n",
    "import matplotlib.pyplot as plt\n",
    "import numpy as np"
   ]
  },
  {
   "cell_type": "code",
   "execution_count": 2,
   "id": "9ff2cab1",
   "metadata": {},
   "outputs": [],
   "source": [
    "train_df=pd.read_csv('mitbih_train.csv',header=None)\n",
    "test_df=pd.read_csv('mitbih_test.csv',header=None)"
   ]
  },
  {
   "cell_type": "code",
   "execution_count": 3,
   "id": "40b0c807",
   "metadata": {},
   "outputs": [
    {
     "data": {
      "text/plain": [
       "(87554, 188)"
      ]
     },
     "execution_count": 3,
     "metadata": {},
     "output_type": "execute_result"
    }
   ],
   "source": [
    "train_df.shape"
   ]
  },
  {
   "cell_type": "code",
   "execution_count": 4,
   "id": "08db2855",
   "metadata": {},
   "outputs": [
    {
     "data": {
      "text/plain": [
       "(21892, 188)"
      ]
     },
     "execution_count": 4,
     "metadata": {},
     "output_type": "execute_result"
    }
   ],
   "source": [
    "test_df.shape"
   ]
  },
  {
   "cell_type": "code",
   "execution_count": 5,
   "id": "fa6e4925",
   "metadata": {},
   "outputs": [
    {
     "name": "stdout",
     "output_type": "stream",
     "text": [
      "<class 'pandas.core.frame.DataFrame'>\n",
      "RangeIndex: 87554 entries, 0 to 87553\n",
      "Columns: 188 entries, 0 to 187\n",
      "dtypes: float64(188)\n",
      "memory usage: 125.6 MB\n"
     ]
    }
   ],
   "source": [
    "train_df.info()"
   ]
  },
  {
   "cell_type": "raw",
   "id": "8d64290e",
   "metadata": {},
   "source": [
    "Number of Samples: 109446\n",
    "    \n",
    "Number of Categories: 5\n",
    "    \n",
    "Sampling Frequency: 125Hz\n",
    "    \n",
    "Data Source: Physionet's MIT-BIH Arrhythmia Dataset\n",
    "    \n",
    "Classes: ['N': 0, 'S': 1, 'V': 2, 'F': 3, 'Q': 4]"
   ]
  },
  {
   "cell_type": "code",
   "execution_count": 6,
   "id": "d23c6645",
   "metadata": {},
   "outputs": [
    {
     "data": {
      "text/html": [
       "<div>\n",
       "<style scoped>\n",
       "    .dataframe tbody tr th:only-of-type {\n",
       "        vertical-align: middle;\n",
       "    }\n",
       "\n",
       "    .dataframe tbody tr th {\n",
       "        vertical-align: top;\n",
       "    }\n",
       "\n",
       "    .dataframe thead th {\n",
       "        text-align: right;\n",
       "    }\n",
       "</style>\n",
       "<table border=\"1\" class=\"dataframe\">\n",
       "  <thead>\n",
       "    <tr style=\"text-align: right;\">\n",
       "      <th></th>\n",
       "      <th>0</th>\n",
       "      <th>1</th>\n",
       "      <th>2</th>\n",
       "      <th>3</th>\n",
       "      <th>4</th>\n",
       "      <th>5</th>\n",
       "      <th>6</th>\n",
       "      <th>7</th>\n",
       "      <th>8</th>\n",
       "      <th>9</th>\n",
       "      <th>...</th>\n",
       "      <th>178</th>\n",
       "      <th>179</th>\n",
       "      <th>180</th>\n",
       "      <th>181</th>\n",
       "      <th>182</th>\n",
       "      <th>183</th>\n",
       "      <th>184</th>\n",
       "      <th>185</th>\n",
       "      <th>186</th>\n",
       "      <th>187</th>\n",
       "    </tr>\n",
       "  </thead>\n",
       "  <tbody>\n",
       "    <tr>\n",
       "      <th>0</th>\n",
       "      <td>0.977941</td>\n",
       "      <td>0.926471</td>\n",
       "      <td>0.681373</td>\n",
       "      <td>0.245098</td>\n",
       "      <td>0.154412</td>\n",
       "      <td>0.191176</td>\n",
       "      <td>0.151961</td>\n",
       "      <td>0.085784</td>\n",
       "      <td>0.058824</td>\n",
       "      <td>0.049020</td>\n",
       "      <td>...</td>\n",
       "      <td>0.0</td>\n",
       "      <td>0.0</td>\n",
       "      <td>0.0</td>\n",
       "      <td>0.0</td>\n",
       "      <td>0.0</td>\n",
       "      <td>0.0</td>\n",
       "      <td>0.0</td>\n",
       "      <td>0.0</td>\n",
       "      <td>0.0</td>\n",
       "      <td>0.0</td>\n",
       "    </tr>\n",
       "    <tr>\n",
       "      <th>1</th>\n",
       "      <td>0.960114</td>\n",
       "      <td>0.863248</td>\n",
       "      <td>0.461538</td>\n",
       "      <td>0.196581</td>\n",
       "      <td>0.094017</td>\n",
       "      <td>0.125356</td>\n",
       "      <td>0.099715</td>\n",
       "      <td>0.088319</td>\n",
       "      <td>0.074074</td>\n",
       "      <td>0.082621</td>\n",
       "      <td>...</td>\n",
       "      <td>0.0</td>\n",
       "      <td>0.0</td>\n",
       "      <td>0.0</td>\n",
       "      <td>0.0</td>\n",
       "      <td>0.0</td>\n",
       "      <td>0.0</td>\n",
       "      <td>0.0</td>\n",
       "      <td>0.0</td>\n",
       "      <td>0.0</td>\n",
       "      <td>0.0</td>\n",
       "    </tr>\n",
       "    <tr>\n",
       "      <th>2</th>\n",
       "      <td>1.000000</td>\n",
       "      <td>0.659459</td>\n",
       "      <td>0.186486</td>\n",
       "      <td>0.070270</td>\n",
       "      <td>0.070270</td>\n",
       "      <td>0.059459</td>\n",
       "      <td>0.056757</td>\n",
       "      <td>0.043243</td>\n",
       "      <td>0.054054</td>\n",
       "      <td>0.045946</td>\n",
       "      <td>...</td>\n",
       "      <td>0.0</td>\n",
       "      <td>0.0</td>\n",
       "      <td>0.0</td>\n",
       "      <td>0.0</td>\n",
       "      <td>0.0</td>\n",
       "      <td>0.0</td>\n",
       "      <td>0.0</td>\n",
       "      <td>0.0</td>\n",
       "      <td>0.0</td>\n",
       "      <td>0.0</td>\n",
       "    </tr>\n",
       "    <tr>\n",
       "      <th>3</th>\n",
       "      <td>0.925414</td>\n",
       "      <td>0.665746</td>\n",
       "      <td>0.541436</td>\n",
       "      <td>0.276243</td>\n",
       "      <td>0.196133</td>\n",
       "      <td>0.077348</td>\n",
       "      <td>0.071823</td>\n",
       "      <td>0.060773</td>\n",
       "      <td>0.066298</td>\n",
       "      <td>0.058011</td>\n",
       "      <td>...</td>\n",
       "      <td>0.0</td>\n",
       "      <td>0.0</td>\n",
       "      <td>0.0</td>\n",
       "      <td>0.0</td>\n",
       "      <td>0.0</td>\n",
       "      <td>0.0</td>\n",
       "      <td>0.0</td>\n",
       "      <td>0.0</td>\n",
       "      <td>0.0</td>\n",
       "      <td>0.0</td>\n",
       "    </tr>\n",
       "    <tr>\n",
       "      <th>4</th>\n",
       "      <td>0.967136</td>\n",
       "      <td>1.000000</td>\n",
       "      <td>0.830986</td>\n",
       "      <td>0.586854</td>\n",
       "      <td>0.356808</td>\n",
       "      <td>0.248826</td>\n",
       "      <td>0.145540</td>\n",
       "      <td>0.089202</td>\n",
       "      <td>0.117371</td>\n",
       "      <td>0.150235</td>\n",
       "      <td>...</td>\n",
       "      <td>0.0</td>\n",
       "      <td>0.0</td>\n",
       "      <td>0.0</td>\n",
       "      <td>0.0</td>\n",
       "      <td>0.0</td>\n",
       "      <td>0.0</td>\n",
       "      <td>0.0</td>\n",
       "      <td>0.0</td>\n",
       "      <td>0.0</td>\n",
       "      <td>0.0</td>\n",
       "    </tr>\n",
       "  </tbody>\n",
       "</table>\n",
       "<p>5 rows × 188 columns</p>\n",
       "</div>"
      ],
      "text/plain": [
       "        0         1         2         3         4         5         6    \\\n",
       "0  0.977941  0.926471  0.681373  0.245098  0.154412  0.191176  0.151961   \n",
       "1  0.960114  0.863248  0.461538  0.196581  0.094017  0.125356  0.099715   \n",
       "2  1.000000  0.659459  0.186486  0.070270  0.070270  0.059459  0.056757   \n",
       "3  0.925414  0.665746  0.541436  0.276243  0.196133  0.077348  0.071823   \n",
       "4  0.967136  1.000000  0.830986  0.586854  0.356808  0.248826  0.145540   \n",
       "\n",
       "        7         8         9    ...  178  179  180  181  182  183  184  185  \\\n",
       "0  0.085784  0.058824  0.049020  ...  0.0  0.0  0.0  0.0  0.0  0.0  0.0  0.0   \n",
       "1  0.088319  0.074074  0.082621  ...  0.0  0.0  0.0  0.0  0.0  0.0  0.0  0.0   \n",
       "2  0.043243  0.054054  0.045946  ...  0.0  0.0  0.0  0.0  0.0  0.0  0.0  0.0   \n",
       "3  0.060773  0.066298  0.058011  ...  0.0  0.0  0.0  0.0  0.0  0.0  0.0  0.0   \n",
       "4  0.089202  0.117371  0.150235  ...  0.0  0.0  0.0  0.0  0.0  0.0  0.0  0.0   \n",
       "\n",
       "   186  187  \n",
       "0  0.0  0.0  \n",
       "1  0.0  0.0  \n",
       "2  0.0  0.0  \n",
       "3  0.0  0.0  \n",
       "4  0.0  0.0  \n",
       "\n",
       "[5 rows x 188 columns]"
      ]
     },
     "execution_count": 6,
     "metadata": {},
     "output_type": "execute_result"
    }
   ],
   "source": [
    "train_df.head()"
   ]
  },
  {
   "cell_type": "code",
   "execution_count": 7,
   "id": "42b42937",
   "metadata": {},
   "outputs": [
    {
     "data": {
      "text/plain": [
       "pandas.core.series.Series"
      ]
     },
     "execution_count": 7,
     "metadata": {},
     "output_type": "execute_result"
    }
   ],
   "source": [
    "type(train_df[187])"
   ]
  },
  {
   "cell_type": "code",
   "execution_count": 8,
   "id": "d27636fe",
   "metadata": {},
   "outputs": [
    {
     "name": "stdout",
     "output_type": "stream",
     "text": [
      "0    72471\n",
      "4     6431\n",
      "2     5788\n",
      "1     2223\n",
      "3      641\n",
      "Name: 187, dtype: int64\n"
     ]
    }
   ],
   "source": [
    "train_df[187]=train_df[187].astype(int)\n",
    "values=train_df[187].value_counts()\n",
    "print(values)"
   ]
  },
  {
   "cell_type": "code",
   "execution_count": 9,
   "id": "85ba1f4c",
   "metadata": {},
   "outputs": [
    {
     "data": {
      "image/png": "[encoded data removed]",
      "text/plain": [
       "<Figure size 720x360 with 1 Axes>"
      ]
     },
     "metadata": {},
     "output_type": "display_data"
    }
   ],
   "source": [
    "plt.figure(figsize=(10,5))\n",
    "my_circle=plt.Circle( (0,0), 0.7, color='white')\n",
    "plt.pie(values, labels=['n','q','v','s','f'], colors=['red','green','blue','skyblue','orange'],autopct='%1.1f%%')\n",
    "p=plt.gcf()\n",
    "p.gca().add_artist(my_circle)\n",
    "plt.show()"
   ]
  },
  {
   "cell_type": "markdown",
   "id": "02da1bec",
   "metadata": {},
   "source": [
    "We could clearly see clearly notice that normal(n=82.8%) occupy most of the part. This \n",
    "can make the our training model biased.So,balancing the data is hugely required.\n",
    "\n",
    "So,there are many ways to fix this imbalnce.\n",
    "1. Use the right evaluation metrics:\n",
    "    we can't use the accuracy metrics here.Our training data is the one illustrated in graph above. If accuracy is used to      measure the goodness of a model, a model which classifies all testing samples into “0” will have an excellent accuracy (99.8%), but obviously, this model won’t provide any valuable information for us.Other metrics can be used:\n",
    "    -F1 score\n",
    "    -confusion matrix\n",
    "    -recall score\n",
    "    -AUC-relation between true-positive rate and false positive rate.\n",
    "2. Resample the training set:\n",
    "\n"
   ]
  },
  {
   "cell_type": "markdown",
   "id": "11c072d6",
   "metadata": {},
   "source": [
    "# balancing the data"
   ]
  },
  {
   "cell_type": "code",
   "execution_count": 10,
   "id": "e7c88149",
   "metadata": {},
   "outputs": [],
   "source": [
    "from sklearn.utils import resample\n",
    "S=train_df[train_df[187]==1]\n",
    "V=train_df[train_df[187]==2]\n",
    "F=train_df[train_df[187]==3]\n",
    "Q=train_df[train_df[187]==4]\n",
    "N=(train_df[train_df[187]==0]).sample(n=20000,random_state=42)\n",
    "\n",
    "S_upsample=resample(S,replace=True,n_samples=20000,random_state=123)\n",
    "V_upsample=resample(V,replace=True,n_samples=20000,random_state=124)\n",
    "F_upsample=resample(F,replace=True,n_samples=20000,random_state=125)\n",
    "Q_upsample=resample(Q,replace=True,n_samples=20000,random_state=126)\n",
    "\n",
    "train=pd.concat([N,S_upsample,V_upsample,F_upsample,Q_upsample])"
   ]
  },
  {
   "cell_type": "code",
   "execution_count": 20,
   "id": "2b6fcf15",
   "metadata": {},
   "outputs": [
    {
     "data": {
      "text/plain": [
       "pandas.core.frame.DataFrame"
      ]
     },
     "execution_count": 20,
     "metadata": {},
     "output_type": "execute_result"
    }
   ],
   "source": [
    "type(train)"
   ]
  },
  {
   "cell_type": "code",
   "execution_count": 11,
   "id": "da0e3f8d",
   "metadata": {},
   "outputs": [
    {
     "name": "stdout",
     "output_type": "stream",
     "text": [
      "0    20000\n",
      "1    20000\n",
      "2    20000\n",
      "3    20000\n",
      "4    20000\n",
      "Name: 187, dtype: int64\n"
     ]
    }
   ],
   "source": [
    "X_train=train[187].value_counts()\n",
    "print(X_train)"
   ]
  },
  {
   "cell_type": "code",
   "execution_count": 12,
   "id": "6791da09",
   "metadata": {},
   "outputs": [
    {
     "data": {
      "image/png": "[encoded data removed]",
      "text/plain": [
       "<Figure size 720x360 with 1 Axes>"
      ]
     },
     "metadata": {},
     "output_type": "display_data"
    }
   ],
   "source": [
    "plt.figure(figsize=(10,5))\n",
    "my_circle=plt.Circle( (0,0), 0.7, color='white')\n",
    "plt.pie(X_train, labels=['n','q','v','s','f'], colors=['red','green','blue','skyblue','orange'],autopct='%1.1f%%')\n",
    "p=plt.gcf()\n",
    "p.gca().add_artist(my_circle)\n",
    "plt.show()"
   ]
  },
  {
   "cell_type": "code",
   "execution_count": 13,
   "id": "8285d7b8",
   "metadata": {},
   "outputs": [],
   "source": [
    "c=train.groupby(187,group_keys=False).apply(lambda train_df : train_df.sample(1))"
   ]
  },
  {
   "cell_type": "code",
   "execution_count": 14,
   "id": "07ca929e",
   "metadata": {},
   "outputs": [
    {
     "data": {
      "text/html": [
       "<div>\n",
       "<style scoped>\n",
       "    .dataframe tbody tr th:only-of-type {\n",
       "        vertical-align: middle;\n",
       "    }\n",
       "\n",
       "    .dataframe tbody tr th {\n",
       "        vertical-align: top;\n",
       "    }\n",
       "\n",
       "    .dataframe thead th {\n",
       "        text-align: right;\n",
       "    }\n",
       "</style>\n",
       "<table border=\"1\" class=\"dataframe\">\n",
       "  <thead>\n",
       "    <tr style=\"text-align: right;\">\n",
       "      <th></th>\n",
       "      <th>0</th>\n",
       "      <th>1</th>\n",
       "      <th>2</th>\n",
       "      <th>3</th>\n",
       "      <th>4</th>\n",
       "      <th>5</th>\n",
       "      <th>6</th>\n",
       "      <th>7</th>\n",
       "      <th>8</th>\n",
       "      <th>9</th>\n",
       "      <th>...</th>\n",
       "      <th>178</th>\n",
       "      <th>179</th>\n",
       "      <th>180</th>\n",
       "      <th>181</th>\n",
       "      <th>182</th>\n",
       "      <th>183</th>\n",
       "      <th>184</th>\n",
       "      <th>185</th>\n",
       "      <th>186</th>\n",
       "      <th>187</th>\n",
       "    </tr>\n",
       "  </thead>\n",
       "  <tbody>\n",
       "    <tr>\n",
       "      <th>65992</th>\n",
       "      <td>0.990000</td>\n",
       "      <td>0.936000</td>\n",
       "      <td>0.738000</td>\n",
       "      <td>0.556000</td>\n",
       "      <td>0.354000</td>\n",
       "      <td>0.164000</td>\n",
       "      <td>0.044000</td>\n",
       "      <td>0.012000</td>\n",
       "      <td>0.024000</td>\n",
       "      <td>0.036000</td>\n",
       "      <td>...</td>\n",
       "      <td>0.0</td>\n",
       "      <td>0.0</td>\n",
       "      <td>0.0</td>\n",
       "      <td>0.0</td>\n",
       "      <td>0.0</td>\n",
       "      <td>0.0</td>\n",
       "      <td>0.0</td>\n",
       "      <td>0.0</td>\n",
       "      <td>0.0</td>\n",
       "      <td>0</td>\n",
       "    </tr>\n",
       "    <tr>\n",
       "      <th>74096</th>\n",
       "      <td>1.000000</td>\n",
       "      <td>0.884328</td>\n",
       "      <td>0.264925</td>\n",
       "      <td>0.026119</td>\n",
       "      <td>0.085821</td>\n",
       "      <td>0.134328</td>\n",
       "      <td>0.115672</td>\n",
       "      <td>0.126866</td>\n",
       "      <td>0.179104</td>\n",
       "      <td>0.164179</td>\n",
       "      <td>...</td>\n",
       "      <td>0.0</td>\n",
       "      <td>0.0</td>\n",
       "      <td>0.0</td>\n",
       "      <td>0.0</td>\n",
       "      <td>0.0</td>\n",
       "      <td>0.0</td>\n",
       "      <td>0.0</td>\n",
       "      <td>0.0</td>\n",
       "      <td>0.0</td>\n",
       "      <td>1</td>\n",
       "    </tr>\n",
       "    <tr>\n",
       "      <th>75707</th>\n",
       "      <td>0.912602</td>\n",
       "      <td>1.000000</td>\n",
       "      <td>0.941057</td>\n",
       "      <td>0.873984</td>\n",
       "      <td>0.843496</td>\n",
       "      <td>0.813008</td>\n",
       "      <td>0.794715</td>\n",
       "      <td>0.691057</td>\n",
       "      <td>0.491870</td>\n",
       "      <td>0.260163</td>\n",
       "      <td>...</td>\n",
       "      <td>0.0</td>\n",
       "      <td>0.0</td>\n",
       "      <td>0.0</td>\n",
       "      <td>0.0</td>\n",
       "      <td>0.0</td>\n",
       "      <td>0.0</td>\n",
       "      <td>0.0</td>\n",
       "      <td>0.0</td>\n",
       "      <td>0.0</td>\n",
       "      <td>2</td>\n",
       "    </tr>\n",
       "    <tr>\n",
       "      <th>80501</th>\n",
       "      <td>0.974775</td>\n",
       "      <td>1.000000</td>\n",
       "      <td>0.655856</td>\n",
       "      <td>0.335135</td>\n",
       "      <td>0.207207</td>\n",
       "      <td>0.153153</td>\n",
       "      <td>0.131532</td>\n",
       "      <td>0.115315</td>\n",
       "      <td>0.099099</td>\n",
       "      <td>0.093694</td>\n",
       "      <td>...</td>\n",
       "      <td>0.0</td>\n",
       "      <td>0.0</td>\n",
       "      <td>0.0</td>\n",
       "      <td>0.0</td>\n",
       "      <td>0.0</td>\n",
       "      <td>0.0</td>\n",
       "      <td>0.0</td>\n",
       "      <td>0.0</td>\n",
       "      <td>0.0</td>\n",
       "      <td>3</td>\n",
       "    </tr>\n",
       "    <tr>\n",
       "      <th>81371</th>\n",
       "      <td>1.000000</td>\n",
       "      <td>0.471429</td>\n",
       "      <td>0.446429</td>\n",
       "      <td>0.471429</td>\n",
       "      <td>0.485714</td>\n",
       "      <td>0.482143</td>\n",
       "      <td>0.471429</td>\n",
       "      <td>0.460714</td>\n",
       "      <td>0.407143</td>\n",
       "      <td>0.292857</td>\n",
       "      <td>...</td>\n",
       "      <td>0.0</td>\n",
       "      <td>0.0</td>\n",
       "      <td>0.0</td>\n",
       "      <td>0.0</td>\n",
       "      <td>0.0</td>\n",
       "      <td>0.0</td>\n",
       "      <td>0.0</td>\n",
       "      <td>0.0</td>\n",
       "      <td>0.0</td>\n",
       "      <td>4</td>\n",
       "    </tr>\n",
       "  </tbody>\n",
       "</table>\n",
       "<p>5 rows × 188 columns</p>\n",
       "</div>"
      ],
      "text/plain": [
       "            0         1         2         3         4         5         6    \\\n",
       "65992  0.990000  0.936000  0.738000  0.556000  0.354000  0.164000  0.044000   \n",
       "74096  1.000000  0.884328  0.264925  0.026119  0.085821  0.134328  0.115672   \n",
       "75707  0.912602  1.000000  0.941057  0.873984  0.843496  0.813008  0.794715   \n",
       "80501  0.974775  1.000000  0.655856  0.335135  0.207207  0.153153  0.131532   \n",
       "81371  1.000000  0.471429  0.446429  0.471429  0.485714  0.482143  0.471429   \n",
       "\n",
       "            7         8         9    ...  178  179  180  181  182  183  184  \\\n",
       "65992  0.012000  0.024000  0.036000  ...  0.0  0.0  0.0  0.0  0.0  0.0  0.0   \n",
       "74096  0.126866  0.179104  0.164179  ...  0.0  0.0  0.0  0.0  0.0  0.0  0.0   \n",
       "75707  0.691057  0.491870  0.260163  ...  0.0  0.0  0.0  0.0  0.0  0.0  0.0   \n",
       "80501  0.115315  0.099099  0.093694  ...  0.0  0.0  0.0  0.0  0.0  0.0  0.0   \n",
       "81371  0.460714  0.407143  0.292857  ...  0.0  0.0  0.0  0.0  0.0  0.0  0.0   \n",
       "\n",
       "       185  186  187  \n",
       "65992  0.0  0.0    0  \n",
       "74096  0.0  0.0    1  \n",
       "75707  0.0  0.0    2  \n",
       "80501  0.0  0.0    3  \n",
       "81371  0.0  0.0    4  \n",
       "\n",
       "[5 rows x 188 columns]"
      ]
     },
     "execution_count": 14,
     "metadata": {},
     "output_type": "execute_result"
    }
   ],
   "source": [
    "c"
   ]
  },
  {
   "cell_type": "raw",
   "id": "5e664f6c",
   "metadata": {},
   "source": [
    " we add noise to normalise te data values and control the risk of overfitting"
   ]
  },
  {
   "cell_type": "code",
   "execution_count": 15,
   "id": "ab0f149c",
   "metadata": {},
   "outputs": [],
   "source": [
    "def add_gaussian_noise(signal):\n",
    "    noise=np.random.normal(0,0.5,186)\n",
    "    return (signal+noise)"
   ]
  },
  {
   "cell_type": "code",
   "execution_count": 16,
   "id": "d3ea8194",
   "metadata": {},
   "outputs": [
    {
     "data": {
      "image/png": "[encoded data removed]",
      "text/plain": [
       "<Figure size 432x288 with 2 Axes>"
      ]
     },
     "metadata": {
      "needs_background": "light"
     },
     "output_type": "display_data"
    }
   ],
   "source": [
    "temp=c.iloc[0,:186]\n",
    "data_noised=add_gaussian_noise(temp)\n",
    "\n",
    "plt.subplot(2,1,1)\n",
    "plt.plot(c.iloc[0,:186])\n",
    "\n",
    "plt.subplot(2,1,2)\n",
    "plt.plot(data_noised)\n",
    "\n",
    "plt.show()"
   ]
  },
  {
   "cell_type": "code",
   "execution_count": 17,
   "id": "bf0cfcbd",
   "metadata": {},
   "outputs": [],
   "source": [
    "from keras.utils.np_utils import to_categorical\n",
    "target_train=train[187]\n",
    "target_test=test_df[187]\n",
    "y_train=to_categorical(target_train)\n",
    "y_test=to_categorical(target_test)"
   ]
  },
  {
   "cell_type": "code",
   "execution_count": 18,
   "id": "b747a1e7",
   "metadata": {},
   "outputs": [],
   "source": [
    "X_train_main=train.iloc[:,:186].values\n",
    "X_test_main=test_df.iloc[:,:186].values\n",
    "\n"
   ]
  },
  {
   "cell_type": "code",
   "execution_count": 21,
   "id": "cffb8268",
   "metadata": {},
   "outputs": [],
   "source": [
    "for i in range(len(train)):\n",
    "    X_train_main[i,:186]= add_gaussian_noise(X_train_main[i,:186])\n",
    "X_train_real = X_train_main.reshape(len(X_train_main), X_train_main.shape[1],1)\n",
    "X_test_real = X_test_main.reshape(len(X_test_main), X_test_main.shape[1],1)"
   ]
  },
  {
   "cell_type": "code",
   "execution_count": 22,
   "id": "81be38b8",
   "metadata": {},
   "outputs": [
    {
     "data": {
      "text/plain": [
       "(100000, 186, 1)"
      ]
     },
     "execution_count": 22,
     "metadata": {},
     "output_type": "execute_result"
    }
   ],
   "source": [
    "X_train_real.shape"
   ]
  },
  {
   "cell_type": "markdown",
   "id": "4a782f52",
   "metadata": {},
   "source": [
    "# defining model"
   ]
  },
  {
   "cell_type": "code",
   "execution_count": 23,
   "id": "2bd61dca",
   "metadata": {},
   "outputs": [],
   "source": [
    "import tensorflow as tf\n",
    "from tensorflow.keras import layers,models\n",
    "from tensorflow import keras\n"
   ]
  },
  {
   "cell_type": "code",
   "execution_count": 24,
   "id": "d5c2ad4d",
   "metadata": {},
   "outputs": [],
   "source": [
    "model=models.Sequential([\n",
    "    layers.Conv1D(64,(6), activation='relu', input_shape=(186,1)),\n",
    "    layers.BatchNormalization(),\n",
    "    layers.MaxPool1D(pool_size=(3), strides=(2), padding=\"same\"),\n",
    "    layers.Conv1D(64, (3), activation='relu' ),\n",
    "    layers.BatchNormalization(),\n",
    "    layers.MaxPool1D(pool_size=(2), strides=(2), padding=\"same\"),\n",
    "    layers.Conv1D(64,(3), activation='relu' ),\n",
    "    layers.BatchNormalization(),\n",
    "    layers.MaxPool1D(pool_size=(2), strides=(2), padding=\"same\"),\n",
    "    #dense\n",
    "    layers.Flatten(),\n",
    "    keras.layers.Dense(64,activation='relu'),\n",
    "    keras.layers.Dense(32,activation='relu'),\n",
    "    keras.layers.Dense(5,activation='softmax')\n",
    "])"
   ]
  },
  {
   "cell_type": "markdown",
   "id": "efc42117",
   "metadata": {},
   "source": [
    "# compilaton"
   ]
  },
  {
   "cell_type": "code",
   "execution_count": 25,
   "id": "44215431",
   "metadata": {},
   "outputs": [],
   "source": [
    " model.compile(optimizer='adam', loss='categorical_crossentropy',metrics = ['accuracy'])"
   ]
  },
  {
   "cell_type": "code",
   "execution_count": 27,
   "id": "fa98d6c4",
   "metadata": {},
   "outputs": [
    {
     "name": "stdout",
     "output_type": "stream",
     "text": [
      "Epoch 1/10\n",
      "3125/3125 [==============================] - 139s 44ms/step - loss: 1.1312 - accuracy: 0.5458 - val_loss: 1.0820 - val_accuracy: 0.6801\n",
      "Epoch 2/10\n",
      "3125/3125 [==============================] - 135s 43ms/step - loss: 1.0433 - accuracy: 0.5888 - val_loss: 0.7634 - val_accuracy: 0.8404\n",
      "Epoch 3/10\n",
      "3125/3125 [==============================] - 136s 43ms/step - loss: 1.0163 - accuracy: 0.5998 - val_loss: 1.0859 - val_accuracy: 0.5541\n",
      "Epoch 4/10\n",
      "3125/3125 [==============================] - 132s 42ms/step - loss: 0.9945 - accuracy: 0.6095 - val_loss: 0.8535 - val_accuracy: 0.8414\n",
      "Epoch 5/10\n",
      "3125/3125 [==============================] - 132s 42ms/step - loss: 0.9767 - accuracy: 0.6171 - val_loss: 1.0477 - val_accuracy: 0.6031\n",
      "Epoch 6/10\n",
      "3125/3125 [==============================] - 131s 42ms/step - loss: 0.9549 - accuracy: 0.6255 - val_loss: 1.3859 - val_accuracy: 0.1255\n",
      "Epoch 7/10\n",
      "3125/3125 [==============================] - 132s 42ms/step - loss: 0.9316 - accuracy: 0.6367 - val_loss: 1.0967 - val_accuracy: 0.5425\n",
      "Epoch 8/10\n",
      "3125/3125 [==============================] - 132s 42ms/step - loss: 0.9045 - accuracy: 0.6475 - val_loss: 1.1685 - val_accuracy: 0.4436\n",
      "Epoch 9/10\n",
      "3125/3125 [==============================] - 132s 42ms/step - loss: 0.8771 - accuracy: 0.6593 - val_loss: 1.1062 - val_accuracy: 0.5195\n",
      "Epoch 10/10\n",
      "3125/3125 [==============================] - 140s 45ms/step - loss: 0.8475 - accuracy: 0.6714 - val_loss: 1.1377 - val_accuracy: 0.5561\n"
     ]
    }
   ],
   "source": [
    "history=model.fit(X_train_real, y_train,epochs=10, batch_size=32,validation_data=(X_test_real,y_test))"
   ]
  },
  {
   "cell_type": "code",
   "execution_count": 28,
   "id": "54791193",
   "metadata": {},
   "outputs": [
    {
     "name": "stdout",
     "output_type": "stream",
     "text": [
      "Accuracy: 55.61%\n"
     ]
    }
   ],
   "source": [
    "scores = model.evaluate((X_test_real),y_test, verbose=0)\n",
    "print(\"Accuracy: %.2f%%\" % (scores[1]*100))"
   ]
  },
  {
   "cell_type": "code",
   "execution_count": 30,
   "id": "2ad12dcf",
   "metadata": {},
   "outputs": [
    {
     "data": {
      "image/png": "[encoded data removed]",
      "text/plain": [
       "<Figure size 432x288 with 1 Axes>"
      ]
     },
     "metadata": {
      "needs_background": "light"
     },
     "output_type": "display_data"
    }
   ],
   "source": [
    "fig1, ax_acc = plt.subplots()\n",
    "plt.plot(history.history['accuracy'])\n",
    "plt.plot(history.history['val_accuracy'])\n",
    "plt.xlabel('Epoch')\n",
    "plt.ylabel('Accuracy')\n",
    "plt.title('Model - Accuracy')\n",
    "plt.legend(['Training', 'Validation'], loc='lower right')\n",
    "plt.show()"
   ]
  }
 ],
 "metadata": {
  "kernelspec": {
   "display_name": "Python 3",
   "language": "python",
   "name": "python3"
  },
  "language_info": {
   "codemirror_mode": {
    "name": "ipython",
    "version": 3
   },
   "file_extension": ".py",
   "mimetype": "text/x-python",
   "name": "python",
   "nbconvert_exporter": "python",
   "pygments_lexer": "ipython3",
   "version": "3.8.8"
  }
 },
 "nbformat": 4,
 "nbformat_minor": 5
}
